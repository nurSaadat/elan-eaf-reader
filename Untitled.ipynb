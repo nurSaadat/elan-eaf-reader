{
 "cells": [
  {
   "cell_type": "code",
   "execution_count": 1,
   "metadata": {},
   "outputs": [],
   "source": [
    "import my_elan"
   ]
  },
  {
   "cell_type": "code",
   "execution_count": 4,
   "metadata": {},
   "outputs": [],
   "source": [
    "eaf_file_name = 'example.eaf'\n",
    "eaf_file = my_elan.Eaf(eaf_file_name)"
   ]
  },
  {
   "cell_type": "code",
   "execution_count": 7,
   "metadata": {},
   "outputs": [],
   "source": [
    "tier_name = list(eaf_file.get_tier_names())[0]\n",
    "annotations_list = \"\"\n",
    "for annotation in example_eaf.get_annotation_data_for_tier(tier_name):\n",
    "    start_time, end_time, text = annotation\n",
    "    new_line = \"{}\\t{}\\t{}\".format(start_time, end_time, text)\n",
    "    annotations_list = annotations_list + new_line + \"\\n\""
   ]
  },
  {
   "cell_type": "code",
   "execution_count": 8,
   "metadata": {},
   "outputs": [],
   "source": [
    "file_path = ''.join([eaf_file_name[:-4], '.txt'])\n",
    "with open(file_path, 'w') as file:\n",
    "    file.write(annotations_list)"
   ]
  },
  {
   "cell_type": "code",
   "execution_count": null,
   "metadata": {},
   "outputs": [],
   "source": []
  }
 ],
 "metadata": {
  "kernelspec": {
   "display_name": "Python 3",
   "language": "python",
   "name": "python3"
  },
  "language_info": {
   "codemirror_mode": {
    "name": "ipython",
    "version": 3
   },
   "file_extension": ".py",
   "mimetype": "text/x-python",
   "name": "python",
   "nbconvert_exporter": "python",
   "pygments_lexer": "ipython3",
   "version": "3.7.3"
  }
 },
 "nbformat": 4,
 "nbformat_minor": 2
}
