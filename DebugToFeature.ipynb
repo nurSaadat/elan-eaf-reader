{
 "cells": [
  {
   "cell_type": "code",
   "execution_count": 1,
   "metadata": {},
   "outputs": [],
   "source": [
    "import my_elan\n",
    "import eaf_helper"
   ]
  },
  {
   "cell_type": "code",
   "execution_count": 2,
   "metadata": {},
   "outputs": [],
   "source": [
    "eaf_helper.init_logger()\n",
    "example_eaf = my_elan.Eaf('example.eaf')"
   ]
  },
  {
   "cell_type": "code",
   "execution_count": 3,
   "metadata": {},
   "outputs": [],
   "source": [
    "media_descriptors = example_eaf.media_descriptors\n",
    "properties = example_eaf.properties"
   ]
  },
  {
   "cell_type": "code",
   "execution_count": 10,
   "metadata": {},
   "outputs": [
    {
     "name": "stdout",
     "output_type": "stream",
     "text": [
      "0\t8304\tАқбілек көнетөз жасыл шапанын көзіне түсіре бүркеніп, белі бәкіше бүктетіліп бас-аяғы кірпіше жиырылып,\n",
      "8304\t12419\tқұнысып, жасы мөлдіреген қара көзін жыпылықтатып,\n",
      "12419\t18744\tқара мұртқа анда-санда көз құйрығын бір жіберіп, таңдана, үрейлене тыңдады.\n"
     ]
    }
   ],
   "source": [
    "tier_name = \"default\"\n",
    "annotations_list = \"\"\n",
    "for annotation in example_eaf.get_annotation_data_for_tier(tier_name):\n",
    "    start_time, end_time, text = annotation\n",
    "    print(\"{}\\t{}\\t{}\".format(start_time, end_time, text))\n",
    "    new_line = \"{}\\t{}\\t{}\".format(start_time, end_time, text)\n",
    "    annotations_list = annotations_list + new_line + \"\\n\""
   ]
  },
  {
   "cell_type": "code",
   "execution_count": 11,
   "metadata": {},
   "outputs": [
    {
     "data": {
      "text/plain": [
       "'0\\t8304\\tАқбілек көнетөз жасыл шапанын көзіне түсіре бүркеніп, белі бәкіше бүктетіліп бас-аяғы кірпіше жиырылып,\\n8304\\t12419\\tқұнысып, жасы мөлдіреген қара көзін жыпылықтатып,\\n12419\\t18744\\tқара мұртқа анда-санда көз құйрығын бір жіберіп, таңдана, үрейлене тыңдады.\\n'"
      ]
     },
     "execution_count": 11,
     "metadata": {},
     "output_type": "execute_result"
    }
   ],
   "source": [
    "annotations_list"
   ]
  },
  {
   "cell_type": "code",
   "execution_count": 12,
   "metadata": {},
   "outputs": [],
   "source": [
    "file_path = 'akbilek_track_1.txt'\n",
    "with open(file_path, 'w') as file:\n",
    "    file.write(annotations_list)"
   ]
  },
  {
   "cell_type": "code",
   "execution_count": 10,
   "metadata": {},
   "outputs": [],
   "source": [
    "one, two, three = example_eaf.get_annotation_data_after_time('default', 0)[0]"
   ]
  },
  {
   "cell_type": "code",
   "execution_count": 11,
   "metadata": {},
   "outputs": [
    {
     "data": {
      "text/plain": [
       "0"
      ]
     },
     "execution_count": 11,
     "metadata": {},
     "output_type": "execute_result"
    }
   ],
   "source": [
    "one"
   ]
  },
  {
   "cell_type": "code",
   "execution_count": 12,
   "metadata": {},
   "outputs": [
    {
     "data": {
      "text/plain": [
       "8304"
      ]
     },
     "execution_count": 12,
     "metadata": {},
     "output_type": "execute_result"
    }
   ],
   "source": [
    "two"
   ]
  },
  {
   "cell_type": "code",
   "execution_count": 13,
   "metadata": {},
   "outputs": [
    {
     "data": {
      "text/plain": [
       "'Ақбілек көнетөз жасыл шапанын көзіне түсіре бүркеніп, белі бәкіше бүктетіліп бас-аяғы кірпіше жиырылып,'"
      ]
     },
     "execution_count": 13,
     "metadata": {},
     "output_type": "execute_result"
    }
   ],
   "source": [
    "three"
   ]
  },
  {
   "cell_type": "code",
   "execution_count": 4,
   "metadata": {},
   "outputs": [],
   "source": [
    "fresh_eaf = my_elan.Eaf()"
   ]
  },
  {
   "cell_type": "code",
   "execution_count": 5,
   "metadata": {},
   "outputs": [],
   "source": [
    "fresh_eaf.media_descriptors = media_descriptors\n",
    "fresh_eaf.properties = properties"
   ]
  },
  {
   "cell_type": "code",
   "execution_count": 6,
   "metadata": {},
   "outputs": [],
   "source": [
    "fresh_eaf.to_file('fresh.eaf')"
   ]
  },
  {
   "cell_type": "code",
   "execution_count": 7,
   "metadata": {},
   "outputs": [],
   "source": [
    "def indent(el, level=0):\n",
    "    \"\"\"Function to pretty print the xml, meaning adding tabs and newlines.\n",
    "    :param ElementTree.Element el: Current element.\n",
    "    :param int level: Current level.\n",
    "    \"\"\"\n",
    "    i = '\\n' + level * '\\t'\n",
    "    if len(el):\n",
    "        if not el.text or not el.text.strip():\n",
    "            el.text = i+'\\t'\n",
    "        if not el.tail or not el.tail.strip():\n",
    "            el.tail = i\n",
    "        for elem in el:\n",
    "            indent(elem, level+1)\n",
    "        if not el.tail or not el.tail.strip():\n",
    "            el.tail = i\n",
    "    else:\n",
    "        if level and (not el.tail or not el.tail.strip()):\n",
    "            i = i[:-2]\n",
    "            el.tail = i"
   ]
  },
  {
   "cell_type": "code",
   "execution_count": 9,
   "metadata": {},
   "outputs": [],
   "source": [
    "from xml.etree import cElementTree as etree"
   ]
  },
  {
   "cell_type": "code",
   "execution_count": null,
   "metadata": {},
   "outputs": [],
   "source": []
  }
 ],
 "metadata": {
  "kernelspec": {
   "display_name": "Python 3",
   "language": "python",
   "name": "python3"
  },
  "language_info": {
   "codemirror_mode": {
    "name": "ipython",
    "version": 3
   },
   "file_extension": ".py",
   "mimetype": "text/x-python",
   "name": "python",
   "nbconvert_exporter": "python",
   "pygments_lexer": "ipython3",
   "version": "3.7.3"
  }
 },
 "nbformat": 4,
 "nbformat_minor": 2
}
