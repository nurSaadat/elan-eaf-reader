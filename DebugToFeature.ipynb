{
 "cells": [
  {
   "cell_type": "code",
   "execution_count": 1,
   "metadata": {},
   "outputs": [
    {
     "name": "stdout",
     "output_type": "stream",
     "text": [
      "example timeslots: {'ts1': 0, 'ts2': 8304, 'ts3': 8304, 'ts4': 12419, 'ts5': 12419, 'ts6': 18744}\n"
     ]
    }
   ],
   "source": [
    "import my_elan\n",
    "import eaf_helper\n",
    "from xml.etree import cElementTree as etree\n",
    "\n",
    "eaf_helper.init_logger()\n",
    "example_eaf = my_elan.Eaf('example.eaf')\n",
    "\n",
    "media_descriptors = example_eaf.media_descriptors\n",
    "properties = example_eaf.properties\n",
    "\n",
    "tier_name = \"default\"\n",
    "\n",
    "print(\"example timeslots: {}\".format(example_eaf.timeslots))\n",
    "\n",
    "fresh_eaf = my_elan.Eaf()\n",
    "\n",
    "fresh_eaf.media_descriptors = media_descriptors\n",
    "fresh_eaf.properties = properties"
   ]
  },
  {
   "cell_type": "code",
   "execution_count": 2,
   "metadata": {},
   "outputs": [
    {
     "name": "stdout",
     "output_type": "stream",
     "text": [
      "fresh timeslots: {'ts1': 0, 'ts2': 8304, 'ts3': 8304, 'ts4': 12419, 'ts5': 12419, 'ts6': 18744}\n"
     ]
    }
   ],
   "source": [
    "for annotation in example_eaf.get_annotation_data_for_tier(tier_name):\n",
    "    start_time, end_time, text = annotation\n",
    "    fresh_eaf.add_annotation(tier_name, start_time, end_time, value=text)\n",
    "\n",
    "print(\"fresh timeslots: {}\".format(fresh_eaf.timeslots))"
   ]
  },
  {
   "cell_type": "code",
   "execution_count": 3,
   "metadata": {},
   "outputs": [],
   "source": [
    "fresh_eaf.to_file('fresh.eaf')"
   ]
  },
  {
   "cell_type": "code",
   "execution_count": null,
   "metadata": {},
   "outputs": [],
   "source": [
    "# original function\n",
    "def indent(elem, level=0):\n",
    "    i = \"\\n\" + level * \"  \"\n",
    "    if len(elem):\n",
    "    if not elem.text or not elem.text.strip():\n",
    "        elem.text = i + \"  \"\n",
    "    if not elem.tail or not elem.tail.strip():\n",
    "        elem.tail = i\n",
    "    for elem in elem:\n",
    "        indent(elem, level + 1)\n",
    "    if not elem.tail or not elem.tail.strip():\n",
    "        elem.tail = i\n",
    "    else:\n",
    "    if level and (not elem.tail or not elem.tail.strip()):\n",
    "        elem.tail = i"
   ]
  }
 ],
 "metadata": {
  "kernelspec": {
   "display_name": "Python 3",
   "language": "python",
   "name": "python3"
  },
  "language_info": {
   "codemirror_mode": {
    "name": "ipython",
    "version": 3
   },
   "file_extension": ".py",
   "mimetype": "text/x-python",
   "name": "python",
   "nbconvert_exporter": "python",
   "pygments_lexer": "ipython3",
   "version": "3.7.3"
  }
 },
 "nbformat": 4,
 "nbformat_minor": 2
}
